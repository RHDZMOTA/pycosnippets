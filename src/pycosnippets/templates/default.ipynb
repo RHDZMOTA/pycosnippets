{
 "cells": [
  {
   "cell_type": "markdown",
   "id": "eb908816",
   "metadata": {},
   "source": [
    "# PyCo Snippet"
   ]
  },
  {
   "cell_type": "code",
   "execution_count": null,
   "id": "5f86b329",
   "metadata": {},
   "outputs": [],
   "source": [
    "# Common imports\n",
    "import matplotlib.pyplot as plt\n",
    "import seaborn as sns\n",
    "import pandas as pd\n",
    "import numpy as np\n",
    "\n",
    "from pycosnippets.pyco import PyCo\n",
    "\n",
    "pyco = PyCo.instance()"
   ]
  },
  {
   "cell_type": "code",
   "execution_count": null,
   "id": "e1e3dd1b",
   "metadata": {},
   "outputs": [],
   "source": [
    "# Code Snippet\n"
   ]
  }
 ],
 "metadata": {
  "kernelspec": {
   "display_name": "Python 3",
   "language": "python",
   "name": "python3"
  },
  "language_info": {
   "codemirror_mode": {
    "name": "ipython",
    "version": 3
   },
   "file_extension": ".py",
   "mimetype": "text/x-python",
   "name": "python",
   "nbconvert_exporter": "python",
   "pygments_lexer": "ipython3",
   "version": "3.7.5"
  }
 },
 "nbformat": 4,
 "nbformat_minor": 5
}